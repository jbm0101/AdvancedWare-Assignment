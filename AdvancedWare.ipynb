{
 "cells": [
  {
   "cell_type": "markdown",
   "id": "d6c92100",
   "metadata": {},
   "source": [
    "### 1. Write a program to GET random data of an user and write it in a File named users.csv. Each GET request must have an interval time of 1 second and append the information in a comma separated format. You can use any open source mock rest api endpoints available on the internet or use Random Data API\n",
    "\n",
    "(https://random-data-api.com/documentation). [2 marks]\n",
    "\n",
    "#### Ex. Dataset in File (with comma separation)\n"
   ]
  },
  {
   "cell_type": "code",
   "execution_count": 1,
   "id": "83ca4dc7",
   "metadata": {},
   "outputs": [],
   "source": [
    "import requests\n",
    "import time\n",
    "import csv\n",
    "import pandas as pd"
   ]
  },
  {
   "cell_type": "code",
   "execution_count": 2,
   "id": "38672b6a",
   "metadata": {},
   "outputs": [],
   "source": [
    "def generate_random_user_data(num_users, interval):\n",
    "    url = \"https://random-data-api.com/api/v2/users?limit=1\"\n",
    "    with open(\"users.csv\", \"a\") as f:\n",
    "        writer = csv.writer(f)\n",
    "        writer.writerow([\"id\", \"username\", \"first_name\", \"last_name\", \"email\", \"gender\", \"phone_number\"])\n",
    "        for i in range(num_users):\n",
    "            response = requests.get(url)\n",
    "            data = response.json()\n",
    "            row = [data[\"id\"], data[\"first_name\"], data[\"username\"], data[\"last_name\"], data[\"email\"], data[\"gender\"], data[\"phone_number\"]]\n",
    "            writer.writerow(row)\n",
    "            time.sleep(interval)"
   ]
  },
  {
   "cell_type": "markdown",
   "id": "99ad4421",
   "metadata": {},
   "source": [
    "### A. Write a program to read users.csv and create users-sorted.csv by applying sorting algorithm on firstName / Name / Username (Field of your choice based on your dataset) \n",
    "\n",
    "[4 marks]"
   ]
  },
  {
   "cell_type": "code",
   "execution_count": 3,
   "id": "bffe9cc8",
   "metadata": {},
   "outputs": [],
   "source": [
    "def sort_csv(file_path, sort_field):\n",
    "    df = pd.read_csv(file_path)\n",
    "    df = df.sort_values(by=[sort_field])\n",
    "    df.to_csv(\"users-sorted.csv\", index=False)"
   ]
  },
  {
   "cell_type": "code",
   "execution_count": 4,
   "id": "ada5ab86",
   "metadata": {},
   "outputs": [],
   "source": [
    "sort_csv(\"users.csv\", \"first_name\")"
   ]
  },
  {
   "cell_type": "markdown",
   "id": "4eccc1ac",
   "metadata": {},
   "source": [
    "### B. Write a program to Input Id or Username of an user and return the details of that user in the output of the program \n",
    "\n",
    "[4 marks]"
   ]
  },
  {
   "cell_type": "code",
   "execution_count": 5,
   "id": "8ae2dd4a",
   "metadata": {},
   "outputs": [],
   "source": [
    "def get_user_details(file_path, identifier, identifier_field):\n",
    "    with open(file_path, \"r\") as f:\n",
    "        reader = csv.reader(f)\n",
    "        header = next(reader)\n",
    "        data = list(reader)\n",
    "\n",
    "    idx = header.index(identifier_field)\n",
    "    for row in data:\n",
    "        if row[idx] == identifier:\n",
    "            user_details = dict(zip(header, row))\n",
    "            return user_details\n",
    "    return None"
   ]
  },
  {
   "cell_type": "code",
   "execution_count": 7,
   "id": "c3da40ac",
   "metadata": {},
   "outputs": [
    {
     "name": "stdout",
     "output_type": "stream",
     "text": [
      "Enter the user Id or Username:gino.hickle\n",
      "User Details:\n",
      "id: 9451\n",
      "first_name: Gino\n",
      "username: gino.hickle\n",
      "last_name: Hickle\n",
      "email: gino.hickle@email.com\n",
      "gender: Polygender\n",
      "phone_number: +250 326-226-0122 x81944\n"
     ]
    }
   ],
   "source": [
    "user_id = input(\"Enter the Username:\")\n",
    "user_details = get_user_details(\"users-sorted.csv\", user_id, \"username\")\n",
    "if user_details:\n",
    "    print(\"User Details:\")\n",
    "    for field, value in user_details.items():\n",
    "        print(f\"{field}: {value}\")\n",
    "else:\n",
    "    print(\"User not found.\")"
   ]
  }
 ],
 "metadata": {
  "kernelspec": {
   "display_name": "Python 3",
   "language": "python",
   "name": "python3"
  },
  "language_info": {
   "codemirror_mode": {
    "name": "ipython",
    "version": 3
   },
   "file_extension": ".py",
   "mimetype": "text/x-python",
   "name": "python",
   "nbconvert_exporter": "python",
   "pygments_lexer": "ipython3",
   "version": "3.8.8"
  },
  "latex_envs": {
   "LaTeX_envs_menu_present": true,
   "autoclose": false,
   "autocomplete": true,
   "bibliofile": "biblio.bib",
   "cite_by": "apalike",
   "current_citInitial": 1,
   "eqLabelWithNumbers": true,
   "eqNumInitial": 1,
   "hotkeys": {
    "equation": "Ctrl-E",
    "itemize": "Ctrl-I"
   },
   "labels_anchors": false,
   "latex_user_defs": false,
   "report_style_numbering": false,
   "user_envs_cfg": false
  }
 },
 "nbformat": 4,
 "nbformat_minor": 5
}
